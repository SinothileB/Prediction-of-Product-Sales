{
  "nbformat": 4,
  "nbformat_minor": 0,
  "metadata": {
    "colab": {
      "provenance": [],
      "authorship_tag": "ABX9TyNPIj3VWCx6kq91ikat9DfT",
      "include_colab_link": true
    },
    "kernelspec": {
      "name": "python3",
      "display_name": "Python 3"
    },
    "language_info": {
      "name": "python"
    }
  },
  "cells": [
    {
      "cell_type": "markdown",
      "metadata": {
        "id": "view-in-github",
        "colab_type": "text"
      },
      "source": [
        "<a href=\"https://colab.research.google.com/github/SinothileB/Prediction-of-Product-Sales/blob/main/Markdown.ipynb\" target=\"_parent\"><img src=\"https://colab.research.google.com/assets/colab-badge.svg\" alt=\"Open In Colab\"/></a>"
      ]
    },
    {
      "cell_type": "code",
      "execution_count": null,
      "metadata": {
        "id": "rwstrCbFmxIe"
      },
      "outputs": [],
      "source": [
        "# Prediction of Product Sales"
      ]
    },
    {
      "cell_type": "code",
      "source": [
        "- Author:Sinothile Blose"
      ],
      "metadata": {
        "id": "c2ia5Fq6qFYN"
      },
      "execution_count": null,
      "outputs": []
    },
    {
      "cell_type": "code",
      "source": [
        "## Project Overview"
      ],
      "metadata": {
        "id": "EUVi1BS_qF0m"
      },
      "execution_count": null,
      "outputs": []
    },
    {
      "cell_type": "code",
      "source": [
        "## Load and Inspect Data"
      ],
      "metadata": {
        "id": "xK5Mtk4TqGUq"
      },
      "execution_count": null,
      "outputs": []
    },
    {
      "cell_type": "code",
      "source": [
        "## Clean Data"
      ],
      "metadata": {
        "id": "2BjerXzxnOFk"
      },
      "execution_count": null,
      "outputs": []
    },
    {
      "cell_type": "code",
      "source": [
        "## Exploratory Data Analysis"
      ],
      "metadata": {
        "id": "XNaduzmLnloj"
      },
      "execution_count": null,
      "outputs": []
    },
    {
      "cell_type": "code",
      "source": [
        "## Explanatory Data Analysis"
      ],
      "metadata": {
        "id": "IqhyWZY1nl2a"
      },
      "execution_count": null,
      "outputs": []
    },
    {
      "cell_type": "code",
      "source": [],
      "metadata": {
        "id": "p_bSCX6onmBE"
      },
      "execution_count": null,
      "outputs": []
    }
  ]
}